{
  "nbformat": 4,
  "nbformat_minor": 0,
  "metadata": {
    "colab": {
      "name": "HandWrittenDigits.ipynb",
      "provenance": [],
      "machine_shape": "hm"
    },
    "kernelspec": {
      "name": "python3",
      "display_name": "Python 3"
    }
  },
  "cells": [
    {
      "cell_type": "markdown",
      "metadata": {
        "id": "ONhCMTTYD0Ui",
        "colab_type": "text"
      },
      "source": [
        "#Importing Required Libraries"
      ]
    },
    {
      "cell_type": "code",
      "metadata": {
        "id": "SY1dh7u4SmJf",
        "colab_type": "code",
        "outputId": "e38dce0f-93fa-4439-8b97-1cdeb7b4598d",
        "colab": {
          "base_uri": "https://localhost:8080/",
          "height": 51
        }
      },
      "source": [
        "#!pip install tensorflow==2.0\n",
        "import tensorflow as tf\n",
        "print(tf.__version__)\n",
        "import numpy as np\n",
        "print(np.__version__)\n",
        "import seaborn as sns\n",
        "import matplotlib.pyplot as plt\n",
        "from keras import utils\n",
        "from sklearn.metrics import accuracy_score\n",
        "from sklearn.metrics import confusion_matrix\n",
        "import os \n",
        "import cv2\n",
        "import pickle as pk\n",
        "from sklearn.neighbors import KNeighborsClassifier"
      ],
      "execution_count": 0,
      "outputs": [
        {
          "output_type": "stream",
          "text": [
            "1.15.0\n",
            "1.17.5\n"
          ],
          "name": "stdout"
        }
      ]
    },
    {
      "cell_type": "markdown",
      "metadata": {
        "id": "ZxqPBv6rD7yO",
        "colab_type": "text"
      },
      "source": [
        "Mounting the Google Drive for Data access"
      ]
    },
    {
      "cell_type": "code",
      "metadata": {
        "id": "ovtb9mOlCdbg",
        "colab_type": "code",
        "colab": {}
      },
      "source": [
        "from google.colab import drive\n",
        "drive.mount('/content/drive')"
      ],
      "execution_count": 0,
      "outputs": []
    },
    {
      "cell_type": "markdown",
      "metadata": {
        "id": "Er6BJD7gEFjF",
        "colab_type": "text"
      },
      "source": [
        "#Loading MNIST HandWritten Digits Data"
      ]
    },
    {
      "cell_type": "code",
      "metadata": {
        "id": "9k98Hnk8StGp",
        "colab_type": "code",
        "colab": {}
      },
      "source": [
        "\n",
        "data = tf.keras.datasets.mnist\n",
        "\n",
        "(x_train,y_train) , (x_test,y_test) = data.load_data()"
      ],
      "execution_count": 0,
      "outputs": []
    },
    {
      "cell_type": "markdown",
      "metadata": {
        "id": "quWVp4m3Eut7",
        "colab_type": "text"
      },
      "source": [
        "Let's Make a Look to Our Data..........."
      ]
    },
    {
      "cell_type": "code",
      "metadata": {
        "id": "6iEkiAYjUDRC",
        "colab_type": "code",
        "outputId": "55e585ce-2557-4722-913c-6faf78d0d078",
        "colab": {
          "base_uri": "https://localhost:8080/",
          "height": 1000
        }
      },
      "source": [
        "#plt.matshow(x_train[155])\n",
        "\n",
        "for i in range(5): \n",
        "    plt.figure(figsize=(7,5))   \n",
        "    sns.heatmap(x_train[i])\n",
        "    print('Label Value Is  : ',y_train[i])\n",
        "    plt.show()"
      ],
      "execution_count": 0,
      "outputs": [
        {
          "output_type": "stream",
          "text": [
            "Label Value Is  :  5\n"
          ],
          "name": "stdout"
        },
        {
          "output_type": "display_data",
          "data": {
            "image/png": "[encoded data removed]",
            "text/plain": [
              "<Figure size 504x360 with 2 Axes>"
            ]
          },
          "metadata": {
            "tags": []
          }
        },
        {
          "output_type": "stream",
          "text": [
            "Label Value Is  :  0\n"
          ],
          "name": "stdout"
        },
        {
          "output_type": "display_data",
          "data": {
            "image/png": "[encoded data removed]",
            "text/plain": [
              "<Figure size 504x360 with 2 Axes>"
            ]
          },
          "metadata": {
            "tags": []
          }
        },
        {
          "output_type": "stream",
          "text": [
            "Label Value Is  :  4\n"
          ],
          "name": "stdout"
        },
        {
          "output_type": "display_data",
          "data": {
            "image/png": "[encoded data removed]",
            "text/plain": [
              "<Figure size 504x360 with 2 Axes>"
            ]
          },
          "metadata": {
            "tags": []
          }
        },
        {
          "output_type": "stream",
          "text": [
            "Label Value Is  :  1\n"
          ],
          "name": "stdout"
        },
        {
          "output_type": "display_data",
          "data": {
            "image/png": "[encoded data removed]",
            "text/plain": [
              "<Figure size 504x360 with 2 Axes>"
            ]
          },
          "metadata": {
            "tags": []
          }
        },
        {
          "output_type": "stream",
          "text": [
            "Label Value Is  :  9\n"
          ],
          "name": "stdout"
        },
        {
          "output_type": "display_data",
          "data": {
            "image/png": "[encoded data removed]",
            "text/plain": [
              "<Figure size 504x360 with 2 Axes>"
            ]
          },
          "metadata": {
            "tags": []
          }
        }
      ]
    },
    {
      "cell_type": "markdown",
      "metadata": {
        "id": "98DmekQWE3yw",
        "colab_type": "text"
      },
      "source": [
        "#Normalizing The Data Points \n",
        "1.) All The Image Data is Scaled between 0 and 1   \n",
        "2.) All The Label Data is transformed using One Hot Encoding. "
      ]
    },
    {
      "cell_type": "code",
      "metadata": {
        "id": "Gow3k-48k5I1",
        "colab_type": "code",
        "outputId": "a4ed58a0-8a2c-413b-f689-6ae030fe7313",
        "colab": {
          "base_uri": "https://localhost:8080/",
          "height": 85
        }
      },
      "source": [
        "x_train = x_train/255\n",
        "x_test = x_test/255\n",
        "\n",
        "y_train = utils.to_categorical(y_train)\n",
        "y_test = utils.to_categorical(y_test)\n",
        "\n",
        "print('Size of Training Data : ',len(y_train))\n",
        "print('Size of Testing Data : ',len(y_test))\n",
        "print('Shape of Training Data : ',x_train.shape)\n",
        "print('Shape of Testing Data : ',x_test.shape)"
      ],
      "execution_count": 0,
      "outputs": [
        {
          "output_type": "stream",
          "text": [
            "Size of Training Data :  60000\n",
            "Size of Testing Data :  10000\n",
            "Shape of Training Data :  (60000, 28, 28)\n",
            "Shape of Testing Data :  (10000, 28, 28)\n"
          ],
          "name": "stdout"
        }
      ]
    },
    {
      "cell_type": "markdown",
      "metadata": {
        "id": "iSdVBqrPFGuP",
        "colab_type": "text"
      },
      "source": [
        "#Creating Neural Network Model\n",
        "it's a simple neural network model with :             \n",
        "1.) Input Layer with 784 nodes                                        \n",
        "2.) 3 Hidden Layers with 1024,512,128 nodes respectivily, with relu as activation function.             \n",
        "3.) An output layer with 10 node and sigmoid as activation function        "
      ]
    },
    {
      "cell_type": "code",
      "metadata": {
        "id": "BXxR_MusURTn",
        "colab_type": "code",
        "outputId": "321003d3-08db-4c0c-d34b-4d6ef95a714c",
        "colab": {
          "base_uri": "https://localhost:8080/",
          "height": 479
        }
      },
      "source": [
        "from keras.layers import Dense,Flatten,Conv2D,MaxPool2D\n",
        "from keras.models import Sequential\n",
        "from keras.optimizers import rmsprop\n",
        "\n",
        "model = Sequential()\n",
        "model.add(Flatten(input_shape=(28,28)))\n",
        "#model.add(Dense(784,input_shape=(784,)))\n",
        "model.add(Dense(1024,activation='relu'))\n",
        "model.add(Dense(512,activation='relu'))\n",
        "model.add(Dense(128,activation='relu'))\n",
        "model.add(Dense(10,activation='sigmoid'))\n",
        "\n",
        "print(model.summary())"
      ],
      "execution_count": 0,
      "outputs": [
        {
          "output_type": "stream",
          "text": [
            "WARNING:tensorflow:From /usr/local/lib/python3.6/dist-packages/keras/backend/tensorflow_backend.py:66: The name tf.get_default_graph is deprecated. Please use tf.compat.v1.get_default_graph instead.\n",
            "\n",
            "WARNING:tensorflow:From /usr/local/lib/python3.6/dist-packages/keras/backend/tensorflow_backend.py:541: The name tf.placeholder is deprecated. Please use tf.compat.v1.placeholder instead.\n",
            "\n",
            "WARNING:tensorflow:From /usr/local/lib/python3.6/dist-packages/keras/backend/tensorflow_backend.py:4432: The name tf.random_uniform is deprecated. Please use tf.random.uniform instead.\n",
            "\n",
            "Model: \"sequential_1\"\n",
            "_________________________________________________________________\n",
            "Layer (type)                 Output Shape              Param #   \n",
            "=================================================================\n",
            "flatten_1 (Flatten)          (None, 784)               0         \n",
            "_________________________________________________________________\n",
            "dense_1 (Dense)              (None, 1024)              803840    \n",
            "_________________________________________________________________\n",
            "dense_2 (Dense)              (None, 512)               524800    \n",
            "_________________________________________________________________\n",
            "dense_3 (Dense)              (None, 128)               65664     \n",
            "_________________________________________________________________\n",
            "dense_4 (Dense)              (None, 10)                1290      \n",
            "=================================================================\n",
            "Total params: 1,395,594\n",
            "Trainable params: 1,395,594\n",
            "Non-trainable params: 0\n",
            "_________________________________________________________________\n",
            "None\n"
          ],
          "name": "stdout"
        },
        {
          "output_type": "stream",
          "text": [
            "Using TensorFlow backend.\n"
          ],
          "name": "stderr"
        }
      ]
    },
    {
      "cell_type": "markdown",
      "metadata": {
        "id": "hlHSXbgzGY6B",
        "colab_type": "text"
      },
      "source": [
        "Compiling Our Model with:                              \n",
        "1.) rmsprop as the Optimizer\n",
        "2.) Binary crossEntropy as loss function\n"
      ]
    },
    {
      "cell_type": "code",
      "metadata": {
        "id": "-XGRLP6RjxHr",
        "colab_type": "code",
        "outputId": "cb503601-dd0b-4aa0-ab69-eb1120e04dbc",
        "colab": {
          "base_uri": "https://localhost:8080/",
          "height": 156
        }
      },
      "source": [
        "model.compile(optimizer='rmsprop',loss='binary_crossentropy',metrics=['accuracy'])"
      ],
      "execution_count": 0,
      "outputs": [
        {
          "output_type": "stream",
          "text": [
            "WARNING:tensorflow:From /usr/local/lib/python3.6/dist-packages/keras/optimizers.py:793: The name tf.train.Optimizer is deprecated. Please use tf.compat.v1.train.Optimizer instead.\n",
            "\n",
            "WARNING:tensorflow:From /usr/local/lib/python3.6/dist-packages/keras/backend/tensorflow_backend.py:3657: The name tf.log is deprecated. Please use tf.math.log instead.\n",
            "\n",
            "WARNING:tensorflow:From /usr/local/lib/python3.6/dist-packages/tensorflow_core/python/ops/nn_impl.py:183: where (from tensorflow.python.ops.array_ops) is deprecated and will be removed in a future version.\n",
            "Instructions for updating:\n",
            "Use tf.where in 2.0, which has the same broadcast rule as np.where\n"
          ],
          "name": "stdout"
        }
      ]
    },
    {
      "cell_type": "markdown",
      "metadata": {
        "id": "qHTSlNfjGrA1",
        "colab_type": "text"
      },
      "source": [
        "#Training and Validating The Model"
      ]
    },
    {
      "cell_type": "code",
      "metadata": {
        "id": "0L2ED65Wkj3E",
        "colab_type": "code",
        "outputId": "16d7434d-ea79-4768-ae12-fca05177b2b4",
        "colab": {
          "base_uri": "https://localhost:8080/",
          "height": 479
        }
      },
      "source": [
        "model.fit(x_train,y_train,batch_size=32,epochs=4,validation_data=(x_test,y_test))"
      ],
      "execution_count": 0,
      "outputs": [
        {
          "output_type": "stream",
          "text": [
            "WARNING:tensorflow:From /usr/local/lib/python3.6/dist-packages/keras/backend/tensorflow_backend.py:1033: The name tf.assign_add is deprecated. Please use tf.compat.v1.assign_add instead.\n",
            "\n",
            "WARNING:tensorflow:From /usr/local/lib/python3.6/dist-packages/keras/backend/tensorflow_backend.py:1020: The name tf.assign is deprecated. Please use tf.compat.v1.assign instead.\n",
            "\n",
            "WARNING:tensorflow:From /usr/local/lib/python3.6/dist-packages/keras/backend/tensorflow_backend.py:3005: The name tf.Session is deprecated. Please use tf.compat.v1.Session instead.\n",
            "\n",
            "Train on 60000 samples, validate on 10000 samples\n",
            "Epoch 1/4\n",
            "WARNING:tensorflow:From /usr/local/lib/python3.6/dist-packages/keras/backend/tensorflow_backend.py:190: The name tf.get_default_session is deprecated. Please use tf.compat.v1.get_default_session instead.\n",
            "\n",
            "WARNING:tensorflow:From /usr/local/lib/python3.6/dist-packages/keras/backend/tensorflow_backend.py:197: The name tf.ConfigProto is deprecated. Please use tf.compat.v1.ConfigProto instead.\n",
            "\n",
            "WARNING:tensorflow:From /usr/local/lib/python3.6/dist-packages/keras/backend/tensorflow_backend.py:207: The name tf.global_variables is deprecated. Please use tf.compat.v1.global_variables instead.\n",
            "\n",
            "WARNING:tensorflow:From /usr/local/lib/python3.6/dist-packages/keras/backend/tensorflow_backend.py:216: The name tf.is_variable_initialized is deprecated. Please use tf.compat.v1.is_variable_initialized instead.\n",
            "\n",
            "WARNING:tensorflow:From /usr/local/lib/python3.6/dist-packages/keras/backend/tensorflow_backend.py:223: The name tf.variables_initializer is deprecated. Please use tf.compat.v1.variables_initializer instead.\n",
            "\n",
            "60000/60000 [==============================] - 26s 438us/step - loss: 0.0359 - acc: 0.9881 - val_loss: 0.0205 - val_acc: 0.9938\n",
            "Epoch 2/4\n",
            "60000/60000 [==============================] - 25s 422us/step - loss: 0.0198 - acc: 0.9945 - val_loss: 0.0197 - val_acc: 0.9951\n",
            "Epoch 3/4\n",
            "60000/60000 [==============================] - 25s 416us/step - loss: 0.0182 - acc: 0.9956 - val_loss: 0.0219 - val_acc: 0.9950\n",
            "Epoch 4/4\n",
            "60000/60000 [==============================] - 25s 422us/step - loss: 0.0177 - acc: 0.9961 - val_loss: 0.0307 - val_acc: 0.9935\n"
          ],
          "name": "stdout"
        },
        {
          "output_type": "execute_result",
          "data": {
            "text/plain": [
              "<keras.callbacks.History at 0x7fbddbc03438>"
            ]
          },
          "metadata": {
            "tags": []
          },
          "execution_count": 65
        }
      ]
    },
    {
      "cell_type": "markdown",
      "metadata": {
        "id": "nuJ6YtLPIlQR",
        "colab_type": "text"
      },
      "source": [
        "#Precting and Verifying Accuracy"
      ]
    },
    {
      "cell_type": "code",
      "metadata": {
        "id": "42EM5c0XIQ5G",
        "colab_type": "code",
        "outputId": "9fade74b-7c80-4e01-9506-989495495f78",
        "colab": {
          "base_uri": "https://localhost:8080/",
          "height": 34
        }
      },
      "source": [
        "y_pred = model.predict(x_test)\n",
        "y_pred[1]"
      ],
      "execution_count": 0,
      "outputs": [
        {
          "output_type": "execute_result",
          "data": {
            "text/plain": [
              "array([0., 0., 1., 0., 0., 0., 0., 0., 0., 0.], dtype=float32)"
            ]
          },
          "metadata": {
            "tags": []
          },
          "execution_count": 96
        }
      ]
    },
    {
      "cell_type": "markdown",
      "metadata": {
        "id": "VNAjB2C9K-Kw",
        "colab_type": "text"
      },
      "source": [
        "#One Hot Encoded to categorical conversion"
      ]
    },
    {
      "cell_type": "code",
      "metadata": {
        "id": "TvMaJdotIrqj",
        "colab_type": "code",
        "colab": {}
      },
      "source": [
        "def convert_encoded_numeric(y):\n",
        "    l=[]\n",
        "    for i in y:\n",
        "        s1 = list(i)\n",
        "        s2 = s1.index(max(s1))\n",
        "        l.append(s2)\n",
        "    return np.array(l)\n"
      ],
      "execution_count": 0,
      "outputs": []
    },
    {
      "cell_type": "code",
      "metadata": {
        "id": "yEtZKxcwJxpD",
        "colab_type": "code",
        "outputId": "f2b72fc9-8322-4716-a085-8a29e5ebde47",
        "colab": {
          "base_uri": "https://localhost:8080/",
          "height": 51
        }
      },
      "source": [
        "y_test_new = convert_encoded_numeric(y_test)\n",
        "y_pred_new = convert_encoded_numeric(y_pred)\n",
        "print('\\nAccuracy score of Neural Network Model : ',accuracy_score(y_test_new,y_pred_new)*100,'%')"
      ],
      "execution_count": 0,
      "outputs": [
        {
          "output_type": "stream",
          "text": [
            "\n",
            "Accuracy score of Neural Network Model :  96.86 %\n"
          ],
          "name": "stdout"
        }
      ]
    },
    {
      "cell_type": "markdown",
      "metadata": {
        "id": "6KjWSnh3Luie",
        "colab_type": "text"
      },
      "source": [
        "#Creating file of model for future use........."
      ]
    },
    {
      "cell_type": "code",
      "metadata": {
        "id": "PtVQHXyuvi1I",
        "colab_type": "code",
        "outputId": "d4ee8d77-51e7-43c0-de9f-4d1353d9e4a8",
        "colab": {
          "base_uri": "https://localhost:8080/",
          "height": 34
        }
      },
      "source": [
        "\n",
        "os.chdir('/content/drive/My Drive/Colab Notebooks/TF_Course')\n",
        "\n",
        "with open('digits_NN','wb') as ff:\n",
        "    pk.dump(model,ff)\n",
        "    print('file Sucessfully created...........')"
      ],
      "execution_count": 0,
      "outputs": [
        {
          "output_type": "stream",
          "text": [
            "file Sucessfully created...........\n"
          ],
          "name": "stdout"
        }
      ]
    },
    {
      "cell_type": "markdown",
      "metadata": {
        "id": "kSYZFxSoMKyH",
        "colab_type": "text"
      },
      "source": [
        "#Using K-Nearest-Neighbour                                             \n",
        "\n",
        "Now we will use KNN(Machine Learning) approch for our model and see the accuracy....\n"
      ]
    },
    {
      "cell_type": "markdown",
      "metadata": {
        "id": "Cpge1Mm1MnBg",
        "colab_type": "text"
      },
      "source": [
        "#Normalizing Data according to KNN"
      ]
    },
    {
      "cell_type": "code",
      "metadata": {
        "id": "6MVNn99eCqHO",
        "colab_type": "code",
        "outputId": "6dd4d2df-523a-4f21-dbc7-8af227a7c3b8",
        "colab": {
          "base_uri": "https://localhost:8080/",
          "height": 51
        }
      },
      "source": [
        "x_train1 = [i.flatten() for i in x_train]\n",
        "x_train1[0].shape\n",
        "x_test1 = [i.flatten() for i in x_test]\n",
        "x_test1[0].shape\n",
        "\n",
        "print('Shape of training date : ',x_train.shape)\n",
        "print('Shape of testing date : ',x_test.shape)"
      ],
      "execution_count": 0,
      "outputs": [
        {
          "output_type": "stream",
          "text": [
            "Shape of training date :  (60000, 28, 28)\n",
            "Shape of testing date :  (10000, 28, 28)\n"
          ],
          "name": "stdout"
        }
      ]
    },
    {
      "cell_type": "markdown",
      "metadata": {
        "id": "j0siZziJM1vA",
        "colab_type": "text"
      },
      "source": [
        "#model Structure for K-neighbour-classifier"
      ]
    },
    {
      "cell_type": "code",
      "metadata": {
        "id": "ajDtbAbkCXql",
        "colab_type": "code",
        "outputId": "77cac7b9-8874-47a5-95bc-1e0006aba3bc",
        "colab": {
          "base_uri": "https://localhost:8080/",
          "height": 68
        }
      },
      "source": [
        "model_knn = KNeighborsClassifier()\n",
        "model_knn.fit(x_train1,y_train)"
      ],
      "execution_count": 0,
      "outputs": [
        {
          "output_type": "execute_result",
          "data": {
            "text/plain": [
              "KNeighborsClassifier(algorithm='auto', leaf_size=30, metric='minkowski',\n",
              "                     metric_params=None, n_jobs=None, n_neighbors=5, p=2,\n",
              "                     weights='uniform')"
            ]
          },
          "metadata": {
            "tags": []
          },
          "execution_count": 111
        }
      ]
    },
    {
      "cell_type": "code",
      "metadata": {
        "id": "k67FgTzh1uAf",
        "colab_type": "code",
        "outputId": "bf0f0fe0-4c4b-4338-f415-be06701e3ed2",
        "colab": {
          "base_uri": "https://localhost:8080/",
          "height": 136
        }
      },
      "source": [
        "y_1=model_knn.predict(x_test1)\n",
        "y_1"
      ],
      "execution_count": 0,
      "outputs": [
        {
          "output_type": "execute_result",
          "data": {
            "text/plain": [
              "array([[0., 0., 0., ..., 1., 0., 0.],\n",
              "       [0., 0., 1., ..., 0., 0., 0.],\n",
              "       [0., 1., 0., ..., 0., 0., 0.],\n",
              "       ...,\n",
              "       [0., 0., 0., ..., 0., 0., 0.],\n",
              "       [0., 0., 0., ..., 0., 0., 0.],\n",
              "       [0., 0., 0., ..., 0., 0., 0.]], dtype=float32)"
            ]
          },
          "metadata": {
            "tags": []
          },
          "execution_count": 112
        }
      ]
    },
    {
      "cell_type": "code",
      "metadata": {
        "id": "HdmM8t39Th8n",
        "colab_type": "code",
        "outputId": "8aa177de-2ae6-40cc-94c1-722ad780cd85",
        "colab": {
          "base_uri": "https://localhost:8080/",
          "height": 34
        }
      },
      "source": [
        "print('/nAccuracy Score of KNN Model : ',model_knn.score(x_test1,y_test)*100,'%')"
      ],
      "execution_count": 0,
      "outputs": [
        {
          "output_type": "stream",
          "text": [
            "Accuracy Score of KNN Model :  96.6 %\n"
          ],
          "name": "stdout"
        }
      ]
    },
    {
      "cell_type": "markdown",
      "metadata": {
        "id": "JFDXF26NNXai",
        "colab_type": "text"
      },
      "source": [
        "#**Now we have to test our Models on **\"Real Data\"** **"
      ]
    },
    {
      "cell_type": "markdown",
      "metadata": {
        "id": "fxScRGVsNk_O",
        "colab_type": "text"
      },
      "source": [
        "we have a file having mobile-camera-clicked digits images let's test "
      ]
    },
    {
      "cell_type": "code",
      "metadata": {
        "id": "JQGnmQgJkxIW",
        "colab_type": "code",
        "outputId": "46f14a42-ff3b-48a4-b759-10d9cbb3a1fe",
        "colab": {
          "base_uri": "https://localhost:8080/",
          "height": 34
        }
      },
      "source": [
        "!ls drive/My\\ Drive/numbers"
      ],
      "execution_count": 0,
      "outputs": [
        {
          "output_type": "stream",
          "text": [
            "ls: cannot access 'drive/My Drive/numbers': No such file or directory\n"
          ],
          "name": "stdout"
        }
      ]
    },
    {
      "cell_type": "markdown",
      "metadata": {
        "id": "RwgNnau7N4YP",
        "colab_type": "text"
      },
      "source": [
        "#Creating Testing fuction for Neural network"
      ]
    },
    {
      "cell_type": "code",
      "metadata": {
        "id": "mDPwqwh6qaq5",
        "colab_type": "code",
        "colab": {}
      },
      "source": [
        "\n",
        "def NN_MODEL(name):\n",
        "    #img = cv2.imread('/content/drive/My Drive/numbers/'+name+'.jpg')\n",
        "    img = name\n",
        "    img = cv2.cvtColor(img,cv2.COLOR_BGR2GRAY)\n",
        "    (thresh, bg) = cv2.threshold(img, 149, 255, cv2.THRESH_BINARY)\n",
        "    img1 = cv2.resize(bg,(93,93))/255\n",
        "    for i in range(img1.shape[0]):\n",
        "        for j in range(img1.shape[1]):\n",
        "            if(img1[i,j]<=0.7):\n",
        "                img1[i,j]=1\n",
        "            elif(img1[i,j]>0.7):\n",
        "                img1[i,j]=0\n",
        "    img2 = cv2.resize(img1[1:85,4:97],(28,28))\n",
        "    sns.heatmap(img2)\n",
        "    #print(img2)\n",
        "    s = list(model.predict([[img2]])[0])\n",
        "    d = s.index(max(s))\n",
        "    print(s)\n",
        "    print('Predicted value is : ',d)\n",
        "    return d"
      ],
      "execution_count": 0,
      "outputs": []
    },
    {
      "cell_type": "markdown",
      "metadata": {
        "id": "2QXXhA3nOBVW",
        "colab_type": "text"
      },
      "source": [
        "#Creating Testing function for KNN model"
      ]
    },
    {
      "cell_type": "code",
      "metadata": {
        "id": "WZcKLxJb9YYY",
        "colab_type": "code",
        "colab": {}
      },
      "source": [
        "def KNN_MODEL(img):\n",
        "    img = cv2.cvtColor(img,cv2.COLOR_BGR2GRAY)\n",
        "    (thresh, bg) = cv2.threshold(img, 149, 255, cv2.THRESH_BINARY)\n",
        "    img1 = cv2.resize(bg,(93,93))/255\n",
        "    for i in range(img1.shape[0]):\n",
        "        for j in range(img1.shape[1]):\n",
        "            if(img1[i,j]<=0.7):\n",
        "                img1[i,j]=1\n",
        "            elif(img1[i,j]>0.7):\n",
        "                img1[i,j]=0\n",
        "    img2 = cv2.resize(img1[1:85,4:97],(28,28))\n",
        "    sns.heatmap(img2)\n",
        "    plt.show()\n",
        "    s = list(model_knn.predict([img2.flatten()])[0])\n",
        "    d = s.index(max(s))\n",
        "    print(s)\n",
        "    print('Predicted value is : ',d)\n",
        "    return d\n",
        "    #print(model1.predict([img2.flatten()]))"
      ],
      "execution_count": 0,
      "outputs": []
    },
    {
      "cell_type": "markdown",
      "metadata": {
        "id": "vga2EF43O4Os",
        "colab_type": "text"
      },
      "source": [
        "Reading Image files from Google Drive"
      ]
    },
    {
      "cell_type": "code",
      "metadata": {
        "id": "cSVIhA3P-G2b",
        "colab_type": "code",
        "outputId": "432a3107-2dc7-4da1-8f0e-3f5ef5f6d500",
        "colab": {
          "base_uri": "https://localhost:8080/",
          "height": 34
        }
      },
      "source": [
        "val = input('Enter Image Name : ')\n",
        "img = cv2.imread('/content/drive/My Drive/numbers/'+val+'.jpg')"
      ],
      "execution_count": 0,
      "outputs": [
        {
          "output_type": "stream",
          "text": [
            "Enter Image Name : three\n"
          ],
          "name": "stdout"
        }
      ]
    },
    {
      "cell_type": "markdown",
      "metadata": {
        "id": "pFRwmsfHPC4t",
        "colab_type": "text"
      },
      "source": [
        "#Output for KNN Model........."
      ]
    },
    {
      "cell_type": "code",
      "metadata": {
        "colab_type": "code",
        "outputId": "1681918c-423e-4a12-f2be-aa09cd5f1dca",
        "id": "BVZ0X4Q820bE",
        "colab": {
          "base_uri": "https://localhost:8080/",
          "height": 320
        }
      },
      "source": [
        "op1 = KNN_MODEL(img)\n",
        "print(op1)"
      ],
      "execution_count": 0,
      "outputs": [
        {
          "output_type": "stream",
          "text": [
            "[0.0, 0.0, 0.0, 1.0, 0.0, 0.0, 0.0, 0.0, 0.0, 0.0]\n",
            "Predicted value is :  3\n",
            "3\n"
          ],
          "name": "stdout"
        },
        {
          "output_type": "display_data",
          "data": {
            "image/png": "[encoded data removed]",
            "text/plain": [
              "<Figure size 432x288 with 2 Axes>"
            ]
          },
          "metadata": {
            "tags": []
          }
        }
      ]
    },
    {
      "cell_type": "markdown",
      "metadata": {
        "id": "rQi1v9MoPIRY",
        "colab_type": "text"
      },
      "source": [
        "#Output for NN model......."
      ]
    },
    {
      "cell_type": "code",
      "metadata": {
        "id": "2sN6nKdGDlC0",
        "colab_type": "code",
        "outputId": "2cb6d2cd-6c20-4381-80d4-a3391e5a93f8",
        "colab": {
          "base_uri": "https://localhost:8080/",
          "height": 320
        }
      },
      "source": [
        "op1 = NN_MODEL(img)\n",
        "print(op1)"
      ],
      "execution_count": 0,
      "outputs": [
        {
          "output_type": "stream",
          "text": [
            "[0.0, 1.4901161e-07, 0.0, 0.99993587, 0.0, 4.7683716e-07, 0.0, 0.0, 0.0, 0.0]\n",
            "Predicted value is :  3\n",
            "3\n"
          ],
          "name": "stdout"
        },
        {
          "output_type": "display_data",
          "data": {
            "image/png": "[encoded data removed]",
            "text/plain": [
              "<Figure size 432x288 with 2 Axes>"
            ]
          },
          "metadata": {
            "tags": []
          }
        }
      ]
    },
    {
      "cell_type": "markdown",
      "metadata": {
        "id": "Fu6EPgEOPQKa",
        "colab_type": "text"
      },
      "source": [
        "#Testing out model on a Video                                       \n",
        "we have a video file in our google drive having video of different numbers"
      ]
    },
    {
      "cell_type": "code",
      "metadata": {
        "colab_type": "code",
        "outputId": "17184729-0794-4ced-b545-6fbbd38ce3ff",
        "id": "QJy4AOoY20EK",
        "colab": {
          "base_uri": "https://localhost:8080/",
          "height": 1000
        }
      },
      "source": [
        "import cv2\n",
        "import time\n",
        "l=[]\n",
        "try:\n",
        "    cam = cv2.VideoCapture('/content/drive/My Drive/numbers/fil.mp4')\n",
        "    st = time.time()\n",
        "    for i in range(50):\n",
        "        _,frame = cam.read()\n",
        "        v=NN_MODEL(frame)\n",
        "       \n",
        "        #et=time.time()\n",
        "        #if(st-et>6):\n",
        "        #    break\n",
        "        if(cv2.waitKey(1)==0):\n",
        "            break\n",
        "except:\n",
        "    pass\n",
        "finally:\n",
        "    print(np.array(l).mean())"
      ],
      "execution_count": 0,
      "outputs": [
        {
          "output_type": "stream",
          "text": [
            "[0.38641945, 0.38218877, 0.43986928, 0.42824024, 0.4467932, 0.4017118, 0.35823092, 0.4221612, 0.5370722, 0.50555384]\n",
            "Predicted value is :  8\n",
            "[0.38641945, 0.38218877, 0.43986928, 0.42824024, 0.4467932, 0.4017118, 0.35823092, 0.4221612, 0.5370722, 0.50555384]\n",
            "Predicted value is :  8\n",
            "[0.38641945, 0.38218877, 0.43986928, 0.42824024, 0.4467932, 0.4017118, 0.35823092, 0.4221612, 0.5370722, 0.50555384]\n",
            "Predicted value is :  8\n",
            "[0.38641945, 0.38218877, 0.43986928, 0.42824024, 0.4467932, 0.4017118, 0.35823092, 0.4221612, 0.5370722, 0.50555384]\n",
            "Predicted value is :  8\n",
            "[0.38641945, 0.38218877, 0.43986928, 0.42824024, 0.4467932, 0.4017118, 0.35823092, 0.4221612, 0.5370722, 0.50555384]\n",
            "Predicted value is :  8\n",
            "[0.38641945, 0.38218877, 0.43986928, 0.42824024, 0.4467932, 0.4017118, 0.35823092, 0.4221612, 0.5370722, 0.50555384]\n",
            "Predicted value is :  8\n",
            "[0.38641945, 0.38218877, 0.43986928, 0.42824024, 0.4467932, 0.4017118, 0.35823092, 0.4221612, 0.5370722, 0.50555384]\n",
            "Predicted value is :  8\n",
            "[0.38641945, 0.38218877, 0.43986928, 0.42824024, 0.4467932, 0.4017118, 0.35823092, 0.4221612, 0.5370722, 0.50555384]\n",
            "Predicted value is :  8\n",
            "[0.38641945, 0.38218877, 0.43986928, 0.42824024, 0.4467932, 0.4017118, 0.35823092, 0.4221612, 0.5370722, 0.50555384]\n",
            "Predicted value is :  8\n",
            "[0.38641945, 0.38218877, 0.43986928, 0.42824024, 0.4467932, 0.4017118, 0.35823092, 0.4221612, 0.5370722, 0.50555384]\n",
            "Predicted value is :  8\n",
            "[0.38641945, 0.38218877, 0.43986928, 0.42824024, 0.4467932, 0.4017118, 0.35823092, 0.4221612, 0.5370722, 0.50555384]\n",
            "Predicted value is :  8\n",
            "[0.38641945, 0.38218877, 0.43986928, 0.42824024, 0.4467932, 0.4017118, 0.35823092, 0.4221612, 0.5370722, 0.50555384]\n",
            "Predicted value is :  8\n",
            "[0.3858718, 0.3827243, 0.4385742, 0.42924464, 0.4435461, 0.4042856, 0.35975277, 0.41950595, 0.53934544, 0.5037192]\n",
            "Predicted value is :  8\n",
            "[0.18828982, 0.25156042, 0.21245125, 0.37784255, 0.26231202, 0.53164154, 0.26659715, 0.23022896, 0.3837785, 0.33907104]\n",
            "Predicted value is :  5\n",
            "[0.18324846, 0.24574146, 0.20089746, 0.3702044, 0.256287, 0.5352576, 0.26790547, 0.21373698, 0.38852176, 0.3306723]\n",
            "Predicted value is :  5\n",
            "[5.301833e-05, 0.0, 1.1920929e-07, 4.7385693e-06, 0.0, 0.98973835, 3.7252903e-06, 5.3286552e-05, 1.2324405e-06, 3.7875822e-07]\n",
            "Predicted value is :  5\n",
            "[2.0563602e-06, 0.0, 0.0, 3.2782555e-06, 0.0, 0.998464, 2.0861626e-07, 8.6426735e-07, 9.4563326e-08, 0.0]\n",
            "Predicted value is :  5\n",
            "[0.0029996634, 0.0037451088, 0.020421714, 0.20246407, 0.030020982, 0.74626535, 0.03166434, 0.007780999, 0.17114983, 0.017766904]\n",
            "Predicted value is :  5\n",
            "[0.0023819208, 0.099466056, 0.07865065, 0.45877427, 0.034528136, 0.42394382, 0.052138507, 0.020934641, 0.45844042, 0.01582387]\n",
            "Predicted value is :  3\n",
            "[8.198619e-05, 0.0014834702, 0.005465448, 0.08874479, 0.0004941523, 0.0352993, 0.0012901127, 0.0004886091, 0.88151205, 0.0015974767]\n",
            "Predicted value is :  8\n",
            "[0.0, 2.9802322e-08, 0.00022011995, 0.028108329, 5.662441e-07, 0.00032678246, 0.0, 1.7881393e-07, 0.9808936, 0.00019370901]\n",
            "Predicted value is :  8\n",
            "[0.0, 2.9802322e-08, 0.00043171644, 0.067668825, 1.6152859e-05, 5.2392483e-05, 0.0, 1.2874603e-05, 0.9466283, 0.0074740555]\n",
            "Predicted value is :  8\n",
            "[0.00073108077, 0.0065042377, 0.079924226, 0.2791071, 0.02616182, 0.036113888, 0.00074598193, 0.111300886, 0.6219464, 0.15272936]\n",
            "Predicted value is :  8\n",
            "[0.001326263, 0.010982484, 0.073921174, 0.32493713, 0.04622981, 0.06570777, 0.0007828474, 0.18346187, 0.453469, 0.344307]\n",
            "Predicted value is :  8\n",
            "[0.0021855235, 0.012645155, 0.11333841, 0.23923871, 0.0705148, 0.0514448, 0.0016437769, 0.19852975, 0.57950234, 0.26756543]\n",
            "Predicted value is :  8\n",
            "[0.0009023547, 0.00507769, 0.062196672, 0.18073797, 0.08666414, 0.029253691, 0.00047886372, 0.22054276, 0.5971186, 0.39101246]\n",
            "Predicted value is :  8\n",
            "[0.00034546852, 0.00052270293, 0.01619327, 0.098683655, 0.041069716, 0.009833515, 8.967519e-05, 0.041569114, 0.29298717, 0.58220226]\n",
            "Predicted value is :  9\n",
            "[9.9390745e-05, 0.00034472346, 0.013543159, 0.17045948, 0.013752013, 0.011385858, 5.504489e-05, 0.04143247, 0.5732345, 0.26402667]\n",
            "Predicted value is :  8\n",
            "[0.00029033422, 0.0034236312, 0.051698536, 0.25460345, 0.029692173, 0.025252819, 0.00016078353, 0.16673368, 0.54175353, 0.24117227]\n",
            "Predicted value is :  8\n",
            "[3.0368567e-05, 0.0018576384, 0.04604298, 0.29448265, 0.0107296705, 0.014036894, 2.3424625e-05, 0.17481598, 0.5344913, 0.08962115]\n",
            "Predicted value is :  8\n",
            "[0.0, 1.2099743e-05, 0.013971448, 0.15771091, 0.00025188923, 4.810095e-05, 0.0, 0.06589037, 0.5915542, 0.006582836]\n",
            "Predicted value is :  8\n",
            "[0.0, 2.9802322e-07, 0.081474274, 0.0054151416, 8.940697e-08, 0.0, 0.0, 0.83417046, 0.014115936, 5.9872336e-06]\n",
            "Predicted value is :  7\n",
            "[0.0, 0.0, 0.010302961, 0.00063446164, 2.9802322e-08, 0.0, 0.0, 0.99271965, 0.00053272716, 4.902289e-06]\n",
            "Predicted value is :  7\n",
            "[0.0, 0.0, 5.9604645e-08, 0.0, 0.0, 0.0, 0.0, 0.9999996, 0.0, 0.0]\n",
            "Predicted value is :  7\n",
            "[0.0, 0.0, 0.0, 0.0, 0.0, 0.0, 0.0, 1.0, 0.0, 0.0]\n",
            "Predicted value is :  7\n",
            "[0.0, 0.0, 0.0, 0.0, 0.0, 0.0, 0.0, 1.0, 0.0, 0.0]\n",
            "Predicted value is :  7\n",
            "[0.0, 0.0, 0.0, 0.0, 0.0, 0.0, 0.0, 1.0, 0.0, 0.0]\n",
            "Predicted value is :  7\n",
            "[0.0, 0.0, 0.0, 0.0, 0.0, 0.0, 0.0, 1.0, 0.0, 0.0]\n",
            "Predicted value is :  7\n",
            "[0.0, 0.0, 0.0, 0.0, 0.0, 0.0, 0.0, 1.0, 0.0, 0.0]\n",
            "Predicted value is :  7\n",
            "[0.0, 0.0, 0.0, 0.0, 0.0, 0.0, 0.0, 1.0, 0.0, 0.0]\n",
            "Predicted value is :  7\n",
            "[0.0, 0.0, 0.0, 0.0, 0.0, 0.0, 0.0, 1.0, 0.0, 0.0]\n",
            "Predicted value is :  7\n",
            "[0.0, 0.0, 0.0, 0.0, 0.0, 0.0, 0.0, 0.0, 0.0, 0.0]\n",
            "Predicted value is :  0\n",
            "[0.0, 0.0, 0.0, 0.0, 0.0, 0.0, 0.0, 0.0, 0.0, 0.0]\n",
            "Predicted value is :  0\n",
            "[0.0, 0.0, 0.0, 0.0, 0.0, 0.0, 0.0, 0.0, 0.0, 0.0]\n",
            "Predicted value is :  0\n",
            "[0.0, 0.0, 0.0, 0.0, 0.0, 0.0, 0.0, 0.0, 0.0, 0.0]\n",
            "Predicted value is :  0\n",
            "[0.0, 0.0, 0.0, 0.0, 0.0, 0.0, 0.0, 0.0, 0.0, 0.0]\n",
            "Predicted value is :  0\n",
            "[0.0, 0.0, 0.0, 0.0, 0.0, 0.0, 0.0, 0.0, 0.0, 0.0]\n",
            "Predicted value is :  0\n",
            "[0.0, 0.0, 0.0, 0.0, 0.0, 0.0, 0.0, 0.0, 0.0, 0.0]\n",
            "Predicted value is :  0\n",
            "[0.0, 0.0, 0.0, 0.0, 0.0, 0.0, 0.0, 0.0, 0.0, 0.0]\n",
            "Predicted value is :  0\n",
            "[0.0, 0.0, 0.0, 0.0, 0.0, 0.0, 0.0, 0.0, 0.0, 0.0]\n",
            "Predicted value is :  0\n",
            "nan\n"
          ],
          "name": "stdout"
        },
        {
          "output_type": "stream",
          "text": [
            "/usr/local/lib/python3.6/dist-packages/ipykernel_launcher.py:19: RuntimeWarning: Mean of empty slice.\n",
            "/usr/local/lib/python3.6/dist-packages/numpy/core/_methods.py:161: RuntimeWarning: invalid value encountered in double_scalars\n",
            "  ret = ret.dtype.type(ret / rcount)\n"
          ],
          "name": "stderr"
        },
        {
          "output_type": "display_data",
          "data": {
            "image/png": "[encoded data removed]",
            "text/plain": [
              "<Figure size 432x288 with 51 Axes>"
            ]
          },
          "metadata": {
            "tags": []
          }
        }
      ]
    },
    {
      "cell_type": "code",
      "metadata": {
        "id": "YdKGrkrHPOTW",
        "colab_type": "code",
        "colab": {}
      },
      "source": [
        ""
      ],
      "execution_count": 0,
      "outputs": []
    },
    {
      "cell_type": "code",
      "metadata": {
        "colab_type": "code",
        "outputId": "6955fca9-09d8-419d-bb62-34dd86fb1bd5",
        "id": "bo7Asivo2zjl",
        "colab": {
          "base_uri": "https://localhost:8080/",
          "height": 34
        }
      },
      "source": [
        "np.round(model.predict([[img1]]))"
      ],
      "execution_count": 0,
      "outputs": [
        {
          "output_type": "execute_result",
          "data": {
            "text/plain": [
              "array([[0., 0., 0., 0., 0., 0., 1., 0., 0., 0.]], dtype=float32)"
            ]
          },
          "metadata": {
            "tags": []
          },
          "execution_count": 440
        }
      ]
    },
    {
      "cell_type": "code",
      "metadata": {
        "colab_type": "code",
        "outputId": "6eebf95a-c198-4c3b-c287-1fc61bf9ebcf",
        "id": "RpbfS9n32xW0",
        "colab": {
          "base_uri": "https://localhost:8080/",
          "height": 34
        }
      },
      "source": [
        "1+2.3841858e-07"
      ],
      "execution_count": 0,
      "outputs": [
        {
          "output_type": "execute_result",
          "data": {
            "text/plain": [
              "1.00000023841858"
            ]
          },
          "metadata": {
            "tags": []
          },
          "execution_count": 268
        }
      ]
    },
    {
      "cell_type": "code",
      "metadata": {
        "id": "2fyx0KR-imjl",
        "colab_type": "code",
        "colab": {}
      },
      "source": [
        "|"
      ],
      "execution_count": 0,
      "outputs": []
    },
    {
      "cell_type": "code",
      "metadata": {
        "colab_type": "code",
        "outputId": "f8926cdf-ab17-4d83-bb67-d06dfa7932c1",
        "id": "XvpTIE0f2zFc",
        "colab": {
          "base_uri": "https://localhost:8080/",
          "height": 286
        }
      },
      "source": [
        "sns.heatmap(img1)"
      ],
      "execution_count": 0,
      "outputs": [
        {
          "output_type": "execute_result",
          "data": {
            "text/plain": [
              "<matplotlib.axes._subplots.AxesSubplot at 0x7ff71ee07a90>"
            ]
          },
          "metadata": {
            "tags": []
          },
          "execution_count": 117
        },
        {
          "output_type": "display_data",
          "data": {
            "image/png": "[encoded data removed]",
            "text/plain": [
              "<Figure size 432x288 with 2 Axes>"
            ]
          },
          "metadata": {
            "tags": []
          }
        }
      ]
    },
    {
      "cell_type": "code",
      "metadata": {
        "colab_type": "code",
        "outputId": "3fdadebd-f4ad-4e4b-8e65-05f49fc725aa",
        "id": "ZIGB32BC2yzR",
        "colab": {
          "base_uri": "https://localhost:8080/",
          "height": 34
        }
      },
      "source": [
        "model.predict([[img1]])"
      ],
      "execution_count": 0,
      "outputs": [
        {
          "output_type": "execute_result",
          "data": {
            "text/plain": [
              "array([[0., 0., 0., 0., 0., 0., 0., 0., 0., 0.]], dtype=float32)"
            ]
          },
          "metadata": {
            "tags": []
          },
          "execution_count": 27
        }
      ]
    },
    {
      "cell_type": "code",
      "metadata": {
        "colab_type": "code",
        "outputId": "a2a94ad4-09eb-4311-a265-a2065bc46ba1",
        "id": "TZEn9nDw2yff",
        "colab": {
          "base_uri": "https://localhost:8080/",
          "height": 34
        }
      },
      "source": [
        "img1.shape"
      ],
      "execution_count": 0,
      "outputs": [
        {
          "output_type": "execute_result",
          "data": {
            "text/plain": [
              "(28, 28)"
            ]
          },
          "metadata": {
            "tags": []
          },
          "execution_count": 25
        }
      ]
    },
    {
      "cell_type": "code",
      "metadata": {
        "colab_type": "code",
        "outputId": "ab9ecd35-4cd2-47f7-f3cc-6e8af00a1b81",
        "id": "sw1---tR2yDy",
        "colab": {
          "base_uri": "https://localhost:8080/",
          "height": 136
        }
      },
      "source": [
        "model.predict(x_test)"
      ],
      "execution_count": 0,
      "outputs": [
        {
          "output_type": "execute_result",
          "data": {
            "text/plain": [
              "array([[0., 0., 0., ..., 1., 0., 0.],\n",
              "       [0., 0., 1., ..., 0., 0., 0.],\n",
              "       [0., 1., 0., ..., 0., 0., 0.],\n",
              "       ...,\n",
              "       [0., 0., 0., ..., 0., 0., 0.],\n",
              "       [0., 0., 0., ..., 0., 0., 0.],\n",
              "       [0., 0., 0., ..., 0., 0., 0.]], dtype=float32)"
            ]
          },
          "metadata": {
            "tags": []
          },
          "execution_count": 28
        }
      ]
    },
    {
      "cell_type": "code",
      "metadata": {
        "id": "_N95TMetdq9q",
        "colab_type": "code",
        "colab": {}
      },
      "source": [
        ""
      ],
      "execution_count": 0,
      "outputs": []
    }
  ]
}